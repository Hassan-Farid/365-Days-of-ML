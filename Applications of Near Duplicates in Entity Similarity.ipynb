{
 "cells": [
  {
   "cell_type": "markdown",
   "id": "2a9a3b42",
   "metadata": {},
   "source": [
    "# Near Duplicates or Similar Entities:\n",
    "Both words \"Near Duplicates\" and \"Similar Entity\" are two different ways to perceive two items in a given dataset. When seeing these items as near duplicates, our goal is to ensure that all such duplicates be removed and/or merged into the single entity they are representing. For example, if we have two rows in our dataset with some modifications which imply the same entity and we are performing some regression based task to get an estimate for some target variable, our goal would be to merge the two records so that the model can generalize better as the dataset contains the same record twice. On the other hand, if we view these records as similar entities, then the use case can change to that of similarity detection. This plays a vital role in a number of applications, varying from text similarity use cases like plagiarism detection, document clustering or recommendation systems, etc. to image similarity use cases like face verification, biometric indentification, etc. The goal of this notebook would be to look at different applications concerning these similar entities and taking a brief overview on what these are and how they might use entity similarity. Implementations would most likely not take place for now since this is more of a theoretical know-how than a practical one and each of these topics by itself takes much time to generate a tuned and well-versed application, but with the passage of time, I will try to implement the various use cases explained. \n",
    "\n",
    "## Applications of Entity Similarity:\n",
    "Entity Similarity as explained above is the process of finding if two given entities are similar in nature i.e. represent the same defined criterion or not. These entities can be text, images or even audios. The criterion however, is defined on the basis of the type of problem being dealt with. For example, in case of document clustering, we can say that the required criteria for two documents to fulfil is that the keywords highlighted by them should match to an approximately 80% or above. Now, without further ado, lets take a look at the various applications that can be developed using entity similarity.\n",
    "\n",
    "1. Text Similarity Applications\n",
    "2. Image Similarity Applications\n",
    "3. Sound Similarity Applications\n",
    "\n",
    "### 1. Text Similarity Applications:\n",
    "Text Similarity applications are used in a number of cases and allow to verify if a certain piece of text carries the same lexical, syntactical or semantical properties as that of some other piece of text. The common applications in text similarity are as under:\n",
    "\n",
    "* Plagiarism Detection\n",
    "* Document Clustering\n",
    "* Recommender Systems\n",
    "* Search Engines\n",
    "\n",
    "### 2. Image Similarity Applications:\n",
    "Image Similarity applications just like text similarity have a wide role and set of applications. These allows to identify if a pair of images carry the same aspects and represent the same object. The common applications in image similarity are as under:\n",
    "\n",
    "* Face Verification\n",
    "* Image Clustering\n",
    "* Product Recommendation\n",
    "* Quality Evaluation\n",
    "\n",
    "### 3. Sound Similarity Applications:\n",
    "Sound Similarity applications just like the other two allow whether the speech or audio recorded belongs to the same person or not. The common applications in sound similarity are as under:\n",
    "\n",
    "* Voice Authentication\n",
    "* Music Categorization\n",
    "* Voice command verification\n",
    "* Auto Playlist Generation\n",
    "\n",
    "We will now take a look at each of these applications in a brief manner here and then look at each of them in a detailed manner in a seperate notebook with their possible general architecture."
   ]
  },
  {
   "cell_type": "markdown",
   "id": "54393151",
   "metadata": {},
   "source": [
    "# Text Similarity Applications:\n",
    "Text Similarity is the process of determining whether a given text is similar to some other text in terms of lexical, syntactic or semantic representation. The representations to utilize when comparing similarity depend on the application at hand.\n",
    "\n",
    "Lexical simmilarity refers to the similarity in the occurrence and presence of same characters, words, sentences or passages in two documents. Syntactic Similarity refers to the similarity in the syntax structure of the words, sentences and passages in the two documents and considers factors like parts of speech, root words, etc.. Semantic Similarity refers to the similarity in terms of the meaning of the words, sentences or passages used in two given documents. \n",
    "\n",
    "Overall, these three dimensions of viewing similarity turn out to be enough to give a best approximation of whether a pair of documents is similar in nature or not. We will now look at the different applications of text similarity and check out what possible types of measures can they use to get a good result.\n",
    "\n",
    "## Plagairism Detection:\n",
    "Plagairism is the art of copying/stealing a certain peice of text or document written by someone else without his/her permission or stating his name or resource i.e. publishing ones content as your own. Plagairism is a very common problem that can be found in examination assessment, content writing, website duplication, etc. Plagairism detection techniques are used to check the degree of such palgairism in the provided set of texts. \n",
    "\n",
    "## Document Clustering:\n",
    "Document Clustering is the process of grouping similar documents together. The criteria for the similarity differs for different applications and data though. For instance, lets take the example of a set of books. To group them, we can use different themes, genre, plots, key points, etc. The goal of document clustering for such an example would be to pile up the books with the same criteria into a single group. \n",
    "\n",
    "## Recommender Systems:\n",
    "Recommender Systems use text similarity as a part of their process where they have to use the frequently accessed documents by the user and find the most similar ones from the rest of the ones that are present for the users to recommend. For instance, if someone reads a novel with fan fiction theme, the recommender system would want to recommend the user with a novel of similar interest.\n",
    "\n",
    "## Search Engines:\n",
    "Search Engines are yet another application of text similarity that we use on a daily basis. Search engines make use of the query we enter and find keywords from these queries and utilize them to find the most similar results for the entered query. This makes use of extracting keywords from the entered query and using different types of similarities to get the closest results."
   ]
  },
  {
   "cell_type": "markdown",
   "id": "afdb9b9a",
   "metadata": {},
   "source": [
    "# Image Similarity Applications:\n",
    "Image Similarity is the task of finding how similar two images are based on their features. The properties of image to utilize for similarity depends on the problem at hand.\n",
    "\n",
    "Pixelwise Similarity is the most common measure to find which pixels from the two images correspond with each other and making decision on the basis of obtained result. This can take place on the required grain level for the preprocessing of the given use case i.e. can be for single pixels or groups of them. Other dimensions that maybe taken into account when measuring similarity include color channels, edges and sharp cuts, orientation, etc. \n",
    "\n",
    "Overall, the methods for image similarity differ for different use cases, although each case utilizes the pixel intensities of the image as well as the features of the object under consideration in the image to amount for the similarity.\n",
    "\n",
    "## Face Verification:\n",
    "Face Verification is perhaps the most commonly used application of image similarity. The goal of the task is to identify given a new facial image of a person whether its the same person or not by checking facial feature similarity with the already stored features in a database. Face Verification is utilized for authentication systems and KYC (Know Your Customer) tasks.\n",
    "\n",
    "## Image Clustering:\n",
    "Image Clustering is the process of grouping similar images or images referring to the same entity in the same group. This makes use of the features of the entity to group and makes use of those general features to find out which of the images correlates to the features most. Image clustering can be used to categorize products for e-commerce purposes or categorize videos based on their content.\n",
    "\n",
    "## Product Recommendation:\n",
    "Product Recommendation works in the same way as recommender systems but with images involved instead. The use case is generally for e-commerce applications where the customer provides an image of an entity as input and the application has to find similar products to the user as recommendation. This may make use of different orientations, color schemes and designs as well to put up the best choice to the user.\n",
    "\n",
    "## Quality Evaluation:\n",
    "Quality Evaluation refers to how refine the quality of an image is with respect to another image and works on the principle of image similarity to find out which parts are erreneous or corrupted in nature. This can also be utilized to find the degradation in quality of a product from its initial date by comparing the different version of images overtime. "
   ]
  },
  {
   "cell_type": "markdown",
   "id": "97c1a50f",
   "metadata": {},
   "source": [
    "# Sound Similarity Applications:\n",
    "Sound Similarity is the task of finding whether two sounds/audios/music are similar to each other i.e. belong to the same entity, which is defined as per the requirement of the problem under consideration. \n",
    "\n",
    "Dimensions that can be used when comparing two sounds include the pitch, loudness, timbre, etc. and makes use of different feature extraction techniques that capture these dimensions given an audio or voice recording. The obtained features are then utilized to conclude the result as per the application.\n",
    "\n",
    "## Voice Authentication:\n",
    "Voice Authentication is an application of sound similarity that allows to verify whether the voice belongs to the same person that owns some entity, usually used in cases of privacy and device verification protocols. Voice Authentication makes use of the different features of voice to ensure that the voice is that of the owner.\n",
    "\n",
    "## Music Categorization:\n",
    "Music Categorization is another application of sound similarity that allows the user to group similar musics on the basis of genre, themes and composition by making use of the patterns in the provided audios. Music categorization can be referred to as a general case of classification and is quite useful when you don't have predefined categories to categorize the music into.\n",
    "\n",
    "## Voice Command Verification:\n",
    "Nowadays, IoT devices with embedded control for voice recoginition have become common e.g. saying out loud to an embedded light bulb, the command \"Off\" turns it off. This verification requires listening to the voice command and then matching its similarity with the set of pre-defined commands for the device to function on. The command with the highest degree of similarity is then executed by the device.\n",
    "\n",
    "## Auto Playlist Generation:\n",
    "Playlists are a common part of people listening to music and themes on a daily basis. Auto-playlist generation is the process of defining a set or theme for a playlist and letting the machine learning approach fetch which of the themes from the database of themes qualify for the criteria set for the playlist."
   ]
  },
  {
   "cell_type": "markdown",
   "id": "0a56460a",
   "metadata": {},
   "source": [
    "Thats pretty much it for now! Next time we are going to discuss these applications one by one with their general architecture and set of practices that have been proposed to achieve them."
   ]
  }
 ],
 "metadata": {
  "kernelspec": {
   "display_name": "Python 3 (ipykernel)",
   "language": "python",
   "name": "python3"
  },
  "language_info": {
   "codemirror_mode": {
    "name": "ipython",
    "version": 3
   },
   "file_extension": ".py",
   "mimetype": "text/x-python",
   "name": "python",
   "nbconvert_exporter": "python",
   "pygments_lexer": "ipython3",
   "version": "3.9.12"
  }
 },
 "nbformat": 4,
 "nbformat_minor": 5
}
