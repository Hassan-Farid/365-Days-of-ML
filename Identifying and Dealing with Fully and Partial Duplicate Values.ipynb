{
 "cells": [
  {
   "cell_type": "code",
   "execution_count": 143,
   "id": "e74d1000",
   "metadata": {},
   "outputs": [],
   "source": [
    "#Import all necessary packages for python\n",
    "import numpy as np\n",
    "from collections import Counter, namedtuple\n",
    "import pandas as pd\n",
    "import matplotlib.pyplot as plt\n",
    "import matplotlib.patches as mpatches\n",
    "import seaborn as sns\n",
    "\n",
    "#Using ggplot styling\n",
    "plt.style.use('ggplot')"
   ]
  },
  {
   "cell_type": "markdown",
   "id": "65f39324",
   "metadata": {},
   "source": [
    "# Types of Duplicate Values:\n",
    "Duplicate Values can occur in three formats in a dataset i.e. either they are fully duplicate, partially duplicate or near-duplicates. Let's take a look at each of these:\n",
    "\n",
    "## Fully Duplicate Values:\n",
    "Fully Duplicate Values are duplicate values in which all the fields of the record are the same as that of some other record i.e. there are multiple head-to-toe copies of the same record in the dataset. Fully Duplicate Values are easy to identify and eliminate as we will see later. \n",
    "\n",
    "### Example:\n",
    "The records 1 and 3 for the given dataset are example of fully duplicate values:\n",
    "\n",
    "|ID|Name|Email|Phone No.|\n",
    "|-|-|-|-|\n",
    "|001|John Smith|johnsmith@email.com|555-555-5555|\n",
    "|002|Jane Doe|janedoe@email.com|234-234-2342|\n",
    "|003|John Smith|johnsmith@email.com|555-555-5555|\n",
    "\n",
    "## Partial Duplicate Values:\n",
    "Partial Duplicate Values are duplicate values in which some of the fields of the record are the same as that of some other record, in such a manner that it induces non-uniqueness for a unique field in the dataset. By non-uniqueness of a unique field, I mean that given that we know something is unique and can only represent a single record in the dataset, yet it is repeated multiple times for some record, indicating a presence of duplicate value.\n",
    "\n",
    "### Example:\n",
    "The records 1 and 3 for the given dataset are example of partial duplicates but the same cannot be said for records 4 and 5:\n",
    "\n",
    "|ID|Name|Seat No.|Subject|Marks|\n",
    "|-|-|-|-|-|\n",
    "|001|John Smith|X-042|Mathematics|87|\n",
    "|002|Jane Doe|X-038|English|67|\n",
    "|003|Jack Smith|X-042|Physics|92|\n",
    "|004|Jane Doe|X-038|Mathematics|93|\n",
    "\n",
    "Here, 1 and 3 are partial duplicates as we know that the seat number assigned to a given student is unique in nature. But as the case stands, we can see that two students \"John Smith\" and \"Jack Smith\" have the same seat number and thus indicate that some sort of duplication was involved. Since we can see that there is only a difference of names, we say that the records are partial duplicates of each other.\n",
    "\n",
    "For records 2 and 4, the same cannot be said as they do have the same name and seat number and thus are perfectly valid records.\n",
    "\n",
    "One might ask, well why didn't we count the fact that English and Physics was present as two different values for the same record? The reason is that duplicates work on the basis of uniqueness of a unique identifier but in our case Subject and Marks can be assigned multiple values to the same student and thus are non-unique in nature. Even if we had 10 more subjects for the same name and seat no., we would still consider the dataset valid for usage.\n",
    "\n",
    "## Near Duplicates (Fuzzy Duplicates):\n",
    "Near Duplicates are duplicate records that are either partial or fully duplicates but with some minor changes in the field values. This means that the record represents the same entity but due to some misspellings, typos or certain variations, these are stored and displayed as seperate records. Due to this reason, detection and elimination of near duplicates is a little bit more complicated as compared to fully and partial records. More the reason we will deal with it in a seperate notebook.\n",
    "\n",
    "### Example:\n",
    "The records 1 and 3 in the given dataset are example of near duplicates or fuzzy duplicates:\n",
    "\n",
    "|ID|Player|Club Name|Goals|\n",
    "|-|-|-|-|\n",
    "|001|Lionel Messi|Barcelona|19|\n",
    "|002|Cristiano Ronaldo|Real Madrid|19|\n",
    "|003|Lyonel Messi|Barcelona|19|\n",
    "\n",
    "These records are near duplicates as if we correct the type in record 3 from \"Lyonel\" to \"Lionel\", it will become a full duplicate value. Thus, the first step is to remove typos and then remove fully and partial duplicates. For this notebook though, I am just going to go over the visualization and handling techniques for fully and partial duplicates."
   ]
  },
  {
   "cell_type": "markdown",
   "id": "f5ab5269",
   "metadata": {},
   "source": [
    "# Measures for Full-Duplicate Values:\n",
    "First, lets see the different methods available for identifying and removing full duplicate values from a dataset. Before we start, lets load up a dataset containing fully duplicate values. For easy of use, I have used the a sample dataset as an example usecase:"
   ]
  },
  {
   "cell_type": "code",
   "execution_count": 144,
   "id": "2c3d4cca",
   "metadata": {},
   "outputs": [
    {
     "data": {
      "text/html": [
       "<div>\n",
       "<style scoped>\n",
       "    .dataframe tbody tr th:only-of-type {\n",
       "        vertical-align: middle;\n",
       "    }\n",
       "\n",
       "    .dataframe tbody tr th {\n",
       "        vertical-align: top;\n",
       "    }\n",
       "\n",
       "    .dataframe thead th {\n",
       "        text-align: right;\n",
       "    }\n",
       "</style>\n",
       "<table border=\"1\" class=\"dataframe\">\n",
       "  <thead>\n",
       "    <tr style=\"text-align: right;\">\n",
       "      <th></th>\n",
       "      <th>first_name</th>\n",
       "      <th>last_name</th>\n",
       "      <th>age</th>\n",
       "      <th>gpa</th>\n",
       "    </tr>\n",
       "  </thead>\n",
       "  <tbody>\n",
       "    <tr>\n",
       "      <th>0</th>\n",
       "      <td>Emma</td>\n",
       "      <td>Moore</td>\n",
       "      <td>24</td>\n",
       "      <td>3.82</td>\n",
       "    </tr>\n",
       "    <tr>\n",
       "      <th>1</th>\n",
       "      <td>Joshua</td>\n",
       "      <td>Miller</td>\n",
       "      <td>24</td>\n",
       "      <td>3.12</td>\n",
       "    </tr>\n",
       "    <tr>\n",
       "      <th>2</th>\n",
       "      <td>Isabella</td>\n",
       "      <td>Wilson</td>\n",
       "      <td>25</td>\n",
       "      <td>3.36</td>\n",
       "    </tr>\n",
       "    <tr>\n",
       "      <th>3</th>\n",
       "      <td>Ethan</td>\n",
       "      <td>Brown</td>\n",
       "      <td>22</td>\n",
       "      <td>3.47</td>\n",
       "    </tr>\n",
       "    <tr>\n",
       "      <th>4</th>\n",
       "      <td>Emma</td>\n",
       "      <td>Moore</td>\n",
       "      <td>24</td>\n",
       "      <td>3.82</td>\n",
       "    </tr>\n",
       "  </tbody>\n",
       "</table>\n",
       "</div>"
      ],
      "text/plain": [
       "  first_name last_name  age   gpa\n",
       "0       Emma     Moore   24  3.82\n",
       "1     Joshua    Miller   24  3.12\n",
       "2   Isabella    Wilson   25  3.36\n",
       "3      Ethan     Brown   22  3.47\n",
       "4       Emma     Moore   24  3.82"
      ]
     },
     "execution_count": 144,
     "metadata": {},
     "output_type": "execute_result"
    }
   ],
   "source": [
    "#Loading the fully duplicate dataset from the sample datasets\n",
    "sample_df = pd.read_csv(\"./sample datasets/full-duplicates.csv\", index_col=0)\n",
    "\n",
    "#Viewing the contents of the sample dataset\n",
    "sample_df.head()"
   ]
  },
  {
   "cell_type": "markdown",
   "id": "2a2aa07e",
   "metadata": {},
   "source": [
    "## Mining Full Duplicates in a Dataset:\n",
    "To identify whether there are full duplicates present in a given dataset, we will make use of data mining to find the occurence of each record. If it is present more than once, we can assign the later one and the ones to come as duplicates of the first record. Lets see the various techniques through which we can determine this:\n",
    "\n",
    "### Using a custom approach:\n",
    "Although it may seem as a task that has already been programmed in some library or package, it is always a good idea to look into the custom implementation of some method. The first approach we are going to use is just that. We are going to generate a simple method to keep track of how many duplicate values are present and then provide the result in number of duplicates found "
   ]
  },
  {
   "cell_type": "code",
   "execution_count": 145,
   "id": "2cb07ea3",
   "metadata": {},
   "outputs": [
    {
     "data": {
      "text/plain": [
       "22"
      ]
     },
     "execution_count": 145,
     "metadata": {},
     "output_type": "execute_result"
    }
   ],
   "source": [
    "#Defining the custom method for finding full duplicates\n",
    "def find_full_duplicates(df):\n",
    "    #Initialzie dictionary for duplicates\n",
    "    unique = set()\n",
    "    duplicates = 0\n",
    "    \n",
    "    #Iterate through all records and maintain list of indices for each duplicate\n",
    "    for idx in df.index:\n",
    "        item = tuple(df.iloc[idx])\n",
    "        if item not in unique:\n",
    "            unique.add(item)\n",
    "        else:\n",
    "            duplicates += 1\n",
    "    #Return result as the number of duplicates\n",
    "    return duplicates \n",
    "\n",
    "#Checking the number of duplicates for the sample dataframe\n",
    "find_full_duplicates(sample_df)"
   ]
  },
  {
   "cell_type": "markdown",
   "id": "1b13aa87",
   "metadata": {},
   "source": [
    "Although this approach isn't the best one out there, it gives us a custom implementation of how simple it is to find full duplicates in a dataset i.e. we have to keep in check the unique records and if something is already present in the hash set storing those records, we increment the duplicates count. We could have also stored the indices of these rows instead, but this was just to illustrate the concept of finding duplicate values, nothing more. Other possible approaches would have been generating hash for each record and comparing the hashes but that would have been computationally expensive.\n",
    "\n",
    "### Using pandas:\n",
    "Pandas being a highly used data analysis library provides methods to determine and eliminate duplicate values. One such method for identification of duplicate values is duplicated(). The method provides us with a list of boolean outputs of whether a given record is a duplicate or not. To make the result meaningful, we have to add all the values based on the boolean output i.e. True or False. Lets check out its implementation on the dataset example and see what it returns in result:"
   ]
  },
  {
   "cell_type": "code",
   "execution_count": 146,
   "id": "a3351925",
   "metadata": {},
   "outputs": [
    {
     "data": {
      "text/plain": [
       "22"
      ]
     },
     "execution_count": 146,
     "metadata": {},
     "output_type": "execute_result"
    }
   ],
   "source": [
    "#Function that returns the number of full duplicate values for a dataframe\n",
    "def get_full_duplicates(df):\n",
    "    duplicates = df.duplicated().sum()\n",
    "    return duplicates\n",
    "\n",
    "#Applying the method to the sample dataframe\n",
    "get_full_duplicates(sample_df)"
   ]
  },
  {
   "cell_type": "markdown",
   "id": "beacea04",
   "metadata": {},
   "source": [
    "## Visualizing Full Duplicates:\n",
    "Once full duplicate values have been found, we can use visualization techniques to display the rows or pattern where duplicate values are present. This usually allows others to get a good insight of the status of duplicate values in the given dataset. Lets see different techniques that allow us to visualize full duplicates in a dataset.\n",
    "\n",
    "### Count Plot:\n",
    "The simplest way to plot out the number of duplicates is to compare them with the total non-duplicate values in a dataset. This can be done by simply collecting the total number of duplicates and then plotting it with the total records that aren't duplicates. I have used matplotlib to get the desired result (using a bar chart with counts):"
   ]
  },
  {
   "cell_type": "code",
   "execution_count": 147,
   "id": "3696453f",
   "metadata": {},
   "outputs": [
    {
     "data": {
      "image/png": "[encoded data removed]",
      "text/plain": [
       "<Figure size 432x288 with 1 Axes>"
      ]
     },
     "metadata": {},
     "output_type": "display_data"
    }
   ],
   "source": [
    "#Visualizing results for count of duplicates and non-duplicates\n",
    "duplicates = get_full_duplicates(sample_df)\n",
    "non_duplicates = len(sample_df) - duplicates\n",
    "\n",
    "plt.bar([0,1], [non_duplicates, duplicates])\n",
    "plt.xticks([0,1], ['Non-Duplicates', 'Duplicates'])\n",
    "plt.ylabel(\"Total Occurences\")\n",
    "plt.title(\"Non-Duplicates vs Duplicates in a Dataset\")\n",
    "plt.show()"
   ]
  },
  {
   "cell_type": "markdown",
   "id": "95de4b0b",
   "metadata": {},
   "source": [
    "As we can see, count plot although offers the comparison between duplicates and non-duplicate rows but doesn't really provide a good result in cases like these where the dataset has so many non-duplicates in comparison to duplicates i.e. it only works in case of small datasets.\n",
    "\n",
    "### Pie-Chart:\n",
    "Pie-Chart is another method of visualizing results. Since we know that the result for duplicates and non-duplicates would contain only two categories in the result, pie-chart can serve as a very good option due to its limited and fixed porportions. I have used matplotlib to implement the pie chart:"
   ]
  },
  {
   "cell_type": "code",
   "execution_count": 148,
   "id": "c1cb4aac",
   "metadata": {},
   "outputs": [
    {
     "data": {
      "image/png": "[encoded data removed]",
      "text/plain": [
       "<Figure size 432x288 with 1 Axes>"
      ]
     },
     "metadata": {},
     "output_type": "display_data"
    }
   ],
   "source": [
    "#Visualizing results for duplicate records as pie chart\n",
    "plt.pie([non_duplicates, duplicates], labels=['Non-Duplicates', 'Duplicates'], autopct='%1.2f%%', pctdistance=1.2, labeldistance=1.5)\n",
    "plt.show()"
   ]
  },
  {
   "cell_type": "markdown",
   "id": "46f3db3e",
   "metadata": {},
   "source": [
    "Although count plot as well as pie chart give us a good representation of how much percentage of duplicates are present in comparison to non-duplicates, it doesn't provide us with the patterns hidden for duplicates. Thus, we now look at techniques that not only give us insight about the number of duplicates but also the patterns in which they are hidden in the dataset. "
   ]
  },
  {
   "cell_type": "markdown",
   "id": "3728fd1e",
   "metadata": {},
   "source": [
    "### Prominent Line Chart:\n",
    "The first approach I am going to use for this case is to iterate over the different duplicates in the dataset and generate a single prominent solid line if the record is a duplicate. This allows us to visualize the dataset in the way it was provided i.e. index form and also enables us to determine the patterns in which the duplicate values are present in the dataset. Let's see this in action:"
   ]
  },
  {
   "cell_type": "code",
   "execution_count": 149,
   "id": "7ec6e674",
   "metadata": {},
   "outputs": [
    {
     "data": {
      "image/png": "[encoded data removed]",
      "text/plain": [
       "<Figure size 576x360 with 1 Axes>"
      ]
     },
     "metadata": {},
     "output_type": "display_data"
    }
   ],
   "source": [
    "#Filter duplicate rows from the data using pandas\n",
    "duplicates = sample_df[sample_df.duplicated()]\n",
    "\n",
    "# Generating the prominent duplicates\n",
    "fig, ax = plt.subplots(figsize=(8,5))\n",
    "\n",
    "for row in duplicates.index:\n",
    "    ax.axvline(row, color='black', linewidth=1.2)\n",
    "\n",
    "ax.set_xticks([])\n",
    "ax.set_xticks(range(0,len(sample_df)+2,10))\n",
    "ax.set_xlabel('Indices of records')\n",
    "ax.set_yticks([])\n",
    "\n",
    "#Adding custom legend for duplicates\n",
    "duplicates_label = mpatches.Patch(color='black', label='Duplicate')\n",
    "plt.legend(handles=[duplicates_label], loc='upper left')\n",
    "\n",
    "# Show the plot\n",
    "plt.show()"
   ]
  },
  {
   "cell_type": "markdown",
   "id": "297b0a27",
   "metadata": {},
   "source": [
    "Here we can see that the plot highlighted out the indices where there is duplicate value and where there isn't. The duplicate values are highlighted with black whereas non-duplicates are grey. This chart is usually helpful for tons of data, which allows us to get an insight as to whether the values duplicated were placed randomly or in process of copy paste, etc.\n",
    "\n",
    "### Frequency Chart:\n",
    "Another approach to display the patterns is to find the number of duplicate rows per each attribute or record. This is done with the help of frequeny chart which comprises of two steps: 1) Create a counter dictionary to store the number of occurrences of each record 2) Use a bar chart to display each key value with its frequency in the data. This allows us to understand which records were repeated the most or if there are any patterns hidden. Lets see an example of this on our sample dataset:"
   ]
  },
  {
   "cell_type": "code",
   "execution_count": 150,
   "id": "2c5086c0",
   "metadata": {},
   "outputs": [
    {
     "data": {
      "image/png": "[encoded data removed]",
      "text/plain": [
       "<Figure size 720x720 with 1 Axes>"
      ]
     },
     "metadata": {},
     "output_type": "display_data"
    }
   ],
   "source": [
    "counter = Counter([tuple(sample_df.iloc[idx]) for idx in range(len(sample_df))])\n",
    "\n",
    "labels = [' '.join(y for y in x[:2]) for x in counter.keys()]\n",
    "count = [x for x in counter.values()]\n",
    "\n",
    "plt.figure(figsize=(10,10))\n",
    "plt.bar(labels, count)\n",
    "plt.xticks(rotation=90)\n",
    "plt.show()"
   ]
  },
  {
   "cell_type": "markdown",
   "id": "2c22efe7",
   "metadata": {},
   "source": [
    "## Dealing with Full Duplicates:\n",
    "Full Duplicates are generally values that are just repetitive in nature and in any case do not represent anything but extra records of data. However, there are still some cases where full duplicates need not to be removed for extra information.\n",
    "\n",
    "### Eliminating Duplicates:\n",
    "The most commonly used approach to deal with full duplicates is to remove them from the dataset. This is because in most cases the full duplicates don't carry any value and are just records occurring due to some kind of error or mistake, leading to inefficiency in analysis and prediction. The common way of eliminating duplicates is via the use of  drop_duplicates() method in pandas library as indicated by the code below:"
   ]
  },
  {
   "cell_type": "code",
   "execution_count": 151,
   "id": "4c958ccd",
   "metadata": {},
   "outputs": [
    {
     "data": {
      "text/html": [
       "<div>\n",
       "<style scoped>\n",
       "    .dataframe tbody tr th:only-of-type {\n",
       "        vertical-align: middle;\n",
       "    }\n",
       "\n",
       "    .dataframe tbody tr th {\n",
       "        vertical-align: top;\n",
       "    }\n",
       "\n",
       "    .dataframe thead th {\n",
       "        text-align: right;\n",
       "    }\n",
       "</style>\n",
       "<table border=\"1\" class=\"dataframe\">\n",
       "  <thead>\n",
       "    <tr style=\"text-align: right;\">\n",
       "      <th></th>\n",
       "      <th>first_name</th>\n",
       "      <th>last_name</th>\n",
       "      <th>age</th>\n",
       "      <th>gpa</th>\n",
       "    </tr>\n",
       "  </thead>\n",
       "  <tbody>\n",
       "    <tr>\n",
       "      <th>0</th>\n",
       "      <td>Emma</td>\n",
       "      <td>Moore</td>\n",
       "      <td>24</td>\n",
       "      <td>3.82</td>\n",
       "    </tr>\n",
       "    <tr>\n",
       "      <th>1</th>\n",
       "      <td>Joshua</td>\n",
       "      <td>Miller</td>\n",
       "      <td>24</td>\n",
       "      <td>3.12</td>\n",
       "    </tr>\n",
       "    <tr>\n",
       "      <th>2</th>\n",
       "      <td>Isabella</td>\n",
       "      <td>Wilson</td>\n",
       "      <td>25</td>\n",
       "      <td>3.36</td>\n",
       "    </tr>\n",
       "    <tr>\n",
       "      <th>3</th>\n",
       "      <td>Ethan</td>\n",
       "      <td>Brown</td>\n",
       "      <td>22</td>\n",
       "      <td>3.47</td>\n",
       "    </tr>\n",
       "    <tr>\n",
       "      <th>4</th>\n",
       "      <td>Ethan</td>\n",
       "      <td>Moore</td>\n",
       "      <td>22</td>\n",
       "      <td>3.30</td>\n",
       "    </tr>\n",
       "  </tbody>\n",
       "</table>\n",
       "</div>"
      ],
      "text/plain": [
       "  first_name last_name  age   gpa\n",
       "0       Emma     Moore   24  3.82\n",
       "1     Joshua    Miller   24  3.12\n",
       "2   Isabella    Wilson   25  3.36\n",
       "3      Ethan     Brown   22  3.47\n",
       "4      Ethan     Moore   22  3.30"
      ]
     },
     "execution_count": 151,
     "metadata": {},
     "output_type": "execute_result"
    }
   ],
   "source": [
    "#Dropping full duplicates from the sample dataset to generate a new dataset\n",
    "new_sample_df = sample_df.drop_duplicates()\n",
    "\n",
    "#Always reset your index after dropping records (if default index is being used)\n",
    "new_sample_df.reset_index(inplace=True, drop=True)\n",
    "\n",
    "#Viewing contents of the new and cleaned sample\n",
    "new_sample_df.head()"
   ]
  },
  {
   "cell_type": "markdown",
   "id": "a5ff60ae",
   "metadata": {},
   "source": [
    "### Keeping Full Duplicates:\n",
    "As akward as it sounds, full duplicates are also kept in the datasets in some use cases. A common use case of this is survey forms where on multiple entries of the same survey, one can analyze the information and make sure to check if its authentic for every single submission. There are some more cases but in comparison to elimination are very few and hence often elimination is the key to getting a more accurate analysis as well as prediction."
   ]
  },
  {
   "cell_type": "markdown",
   "id": "c593b767",
   "metadata": {},
   "source": [
    "# Measures for Partial Duplicate Values:\n",
    "Partial Duplicates are special types of duplicate values in which we have a set of fields the same as that of some previous record, but with the exception of one or more unique properties, which identify a record as a unique entry in the dataset.\n",
    "\n",
    "## Mining Partial Duplicates in a Dataset:\n",
    "Before we start mining out partial duplicates from a dataset, its better to first understand what classifies as partial duplicate and what doesn't. Lets consider the following table where we have a student table with some records:\n",
    "\n",
    "|No.|ID|Student Name|Email|Subject|Marks|\n",
    "|-|-|-|-|-|-|\n",
    "|1|001|John Smith|johnsmith@email.com|Mathematics|57|\n",
    "|2|002|John Smith|johnsmith@email.com|English|65|\n",
    "|3|003|Jane Doe|janedoe@email.com|Chemistry|85|\n",
    "|4|003|Jane Wilson|janedoe@email.com|Physics|75|\n",
    "|5|004|Jane Wilson|janewilson@email.com|Chemistry|93|\n",
    "|6|001|John Smith|johnsmith@email.com|Mathematics|84|\n",
    "|7|004|Jane Wilson|janiewilson@email.com|Computer|73|\n",
    "|8|001|John Smith|johnsmith@email.com|Chemistry|57|\n",
    "\n",
    "Now lets thouroughly go through which of these are partial duplicates and which ones aren't:\n",
    "\n",
    "* Record 1 and 2 are partial duplicates as both students have the same name \"John Smith\" and email \"johnsmith@email.com\" but different student IDs \"001\" and \"002\", which cannot be possible as student IDs are unique in nature. Thus record 2 would be considered a partial duplicate of record 1.\n",
    "\n",
    "\n",
    "* Record 3 and 4 are partial duplicates as both students have the same ID \"003\" as well as the email \"janedoe@email.com\" but have different names, which cannot be possible as the same student cannot be registered with two different names in the same dataset. Even if we consider name as non-unique, this would still be a wrong practice.\n",
    "\n",
    "\n",
    "* Record 5 and 7 are partial duplicates as both students have the same ID \"004\" and name \"Jane Wilson\" but different emails, which cannot be possible as the same student cannot be registered with two different emails for the same dataset. In some cases, this may not be considered a partial duplicate since students are allowed to access the university's content through different emails but usually this practice is not followed.\n",
    "\n",
    "\n",
    "* Record 1 and 6 are partial duplicates as both students have the same ID \"001\", same name \"John Smith\" and same email \"johnsmith@email.com\" but we already have had one record for the subject of Mathematics for John Smith. These records being partial duplicates depends on the case. If the score for different tests is being recorded in the same registry than it might be possible for this to be a non-duplicate but here , this isn't the case.\n",
    "\n",
    "\n",
    "* Record 8 is a valid record even if it has marks \"57\" for the id \"001\", name \"John Smith\" and email \"johnsmith@email.com\", even if John Smith has already scored 57 marks in Mathematics. This is because marks are non-unique in nature and hence it doesn't matter if the same person gains the same marks in different subjects, the record would still be considered eligible.\n",
    "\n",
    "### Unique vs Non-Unique Identification:\n",
    "Thus, we can say that the main and foremost step of eliminating or handling partial duplicates is to understand which of the attributes are acting as unique and which are non-unique. Understanding this correlates directly with understanding the underlying problem statement for the task e.g. in the above case, we could have have some exceptions for the classified partial duplicates as follows:\n",
    "\n",
    "* Assuming that the dataset is a record of student information log i.e. if some student in the admin undergoes some process to update his information such as name or email, and that gets stored into the dataset, then most of the above cases would have been treated as valid records as a name and email can be changed by the student if he undergoes the changing process (since that process is not mentioned here nor is some variable related to it, we say that it is a possbility)\n",
    "\n",
    "\n",
    "* Assuming that the dataset stores the record of student information across different terms and tests and assignments in a single place e.g. if a student gives a test in Mathematics subject and gains 15 marks out of 20, it gets stored in the dataset. Later, he gives another test but this time scores 12 out of 20, then the new record won't be treated as a duplicate like in our case, rather it would be considered a new value. \n",
    "\n",
    "\n",
    "* Assuming that the dataset is of all students in the university i.e. the same student ID can be assigned to students of two different departments, which obvious have different names and emails, and still the dataset would consider it a valid record. This is because IDs are commonly given on a department level. To ensure partial duplicates in such case, something like department name must be mentioned in the table as well.\n",
    "\n",
    "Thus, from the above observations, we can say that to identify a partial duplicate, we have to first identify the unique variables (in our case, email, ID, name) for the problem at hand as well as the sub-unique variables (in our case Subject) at each layer. Once identified, we just have to repeat the process of full duplicate values to get our result.\n",
    "\n",
    "### Using pandas:\n",
    "The most common way of determining partial records is with the help of pandas duplicated() method with a subset argument. This works by setting the value of the unique identifiers in the dataset as the argument value. Thus, the method identifies based on these unique identifiers that a particular record is duplicate or not, rather than checking all the attributes like in case of full duplicates. Lets apply this method on another one of our sample datasets to check the results:"
   ]
  },
  {
   "cell_type": "code",
   "execution_count": 152,
   "id": "3c1eb309",
   "metadata": {},
   "outputs": [
    {
     "data": {
      "text/html": [
       "<div>\n",
       "<style scoped>\n",
       "    .dataframe tbody tr th:only-of-type {\n",
       "        vertical-align: middle;\n",
       "    }\n",
       "\n",
       "    .dataframe tbody tr th {\n",
       "        vertical-align: top;\n",
       "    }\n",
       "\n",
       "    .dataframe thead th {\n",
       "        text-align: right;\n",
       "    }\n",
       "</style>\n",
       "<table border=\"1\" class=\"dataframe\">\n",
       "  <thead>\n",
       "    <tr style=\"text-align: right;\">\n",
       "      <th></th>\n",
       "      <th>ID</th>\n",
       "      <th>Student Name</th>\n",
       "      <th>Email</th>\n",
       "      <th>Subject</th>\n",
       "      <th>Marks</th>\n",
       "    </tr>\n",
       "  </thead>\n",
       "  <tbody>\n",
       "    <tr>\n",
       "      <th>0</th>\n",
       "      <td>1</td>\n",
       "      <td>John Smith</td>\n",
       "      <td>johnsmith@email.com</td>\n",
       "      <td>Mathematics</td>\n",
       "      <td>57</td>\n",
       "    </tr>\n",
       "    <tr>\n",
       "      <th>1</th>\n",
       "      <td>2</td>\n",
       "      <td>John Smith</td>\n",
       "      <td>johnsmith@email.com</td>\n",
       "      <td>Chemistry</td>\n",
       "      <td>65</td>\n",
       "    </tr>\n",
       "    <tr>\n",
       "      <th>2</th>\n",
       "      <td>3</td>\n",
       "      <td>Jane Doe</td>\n",
       "      <td>janedoe@email.com</td>\n",
       "      <td>Chemistry</td>\n",
       "      <td>85</td>\n",
       "    </tr>\n",
       "    <tr>\n",
       "      <th>3</th>\n",
       "      <td>3</td>\n",
       "      <td>Jane Doe</td>\n",
       "      <td>janedoe@email.com</td>\n",
       "      <td>Physics</td>\n",
       "      <td>75</td>\n",
       "    </tr>\n",
       "    <tr>\n",
       "      <th>4</th>\n",
       "      <td>4</td>\n",
       "      <td>Jane Wilson</td>\n",
       "      <td>janewilson@email.com</td>\n",
       "      <td>Chemistry</td>\n",
       "      <td>93</td>\n",
       "    </tr>\n",
       "  </tbody>\n",
       "</table>\n",
       "</div>"
      ],
      "text/plain": [
       "   ID Student Name                 Email      Subject  Marks\n",
       "0   1   John Smith   johnsmith@email.com  Mathematics     57\n",
       "1   2   John Smith   johnsmith@email.com    Chemistry     65\n",
       "2   3     Jane Doe     janedoe@email.com    Chemistry     85\n",
       "3   3     Jane Doe     janedoe@email.com      Physics     75\n",
       "4   4  Jane Wilson  janewilson@email.com    Chemistry     93"
      ]
     },
     "execution_count": 152,
     "metadata": {},
     "output_type": "execute_result"
    }
   ],
   "source": [
    "#Loading the sample dataset for partial duplicates\n",
    "sample_df = pd.read_csv(\"./sample datasets/partial-duplicates.csv\")\n",
    "\n",
    "#Viewing the contents of the dataset\n",
    "sample_df.head()"
   ]
  },
  {
   "cell_type": "markdown",
   "id": "c46f15f7",
   "metadata": {},
   "source": [
    "Now for our use case, we are considering the ID, student name and email as the unique values, so that what we will use for as a subset to determine if a record is a duplicate or not. The process of finding partial duplicates isn't simple though, since we have to apply it on each granular scale to determine if the records are in accordance with the data or not. In our case, the first record for a particular student's subject is considered the correct one and thus should be used to map the correct value in place of its partial duplicate (e.g. a student with id 001 and email student@email.com, if appears again with some different id or email, then we will use the first record to map the correct values to it).\n",
    "\n",
    "The basic method to deal with such a situtation is to first collect the data that we consider is accurate on a unique level and filtering that data out so that we can make decisions for remaining data from it. In our case, since we consider the first record for a student to potray his actual details, we can say that we have to store the first ID and Email for every student in the dataset and later if some student matches one of these values, but doesn't match the other, it will be deemed as a partial duplicate. So lets start this process"
   ]
  },
  {
   "cell_type": "code",
   "execution_count": 153,
   "id": "b71e0e22",
   "metadata": {},
   "outputs": [
    {
     "data": {
      "text/plain": [
       "{(1, 'johnsmith@email.com'): 'John Smith',\n",
       " (3, 'janedoe@email.com'): 'Jane Doe',\n",
       " (4, 'janewilson@email.com'): 'Jane Wilson',\n",
       " (5, 'jackwhite@email.com'): 'Jack White'}"
      ]
     },
     "execution_count": 153,
     "metadata": {},
     "output_type": "execute_result"
    }
   ],
   "source": [
    "#Dictionary to store unique records for each student\n",
    "unique_records = {}\n",
    "\n",
    "#Using boolean indexing to filter out the unqiue (id, email) pairs for every student\n",
    "unique_ids = sample_df[~sample_df.duplicated(subset='ID', keep='first')]\n",
    "unique_students = unique_ids[~unique_ids.duplicated(subset='Email', keep='first')]\n",
    "\n",
    "#Iterate over the filtered dataframe to get the values for each student\n",
    "for index, row in unique_students.iterrows():\n",
    "    id_email = (row['ID'], row['Email'])\n",
    "    if id_email not in unique_records.keys():\n",
    "        unique_records[id_email] = row['Student Name']\n",
    "        \n",
    "unique_records"
   ]
  },
  {
   "cell_type": "code",
   "execution_count": 154,
   "id": "71a30b31",
   "metadata": {},
   "outputs": [
    {
     "data": {
      "text/html": [
       "<div>\n",
       "<style scoped>\n",
       "    .dataframe tbody tr th:only-of-type {\n",
       "        vertical-align: middle;\n",
       "    }\n",
       "\n",
       "    .dataframe tbody tr th {\n",
       "        vertical-align: top;\n",
       "    }\n",
       "\n",
       "    .dataframe thead th {\n",
       "        text-align: right;\n",
       "    }\n",
       "</style>\n",
       "<table border=\"1\" class=\"dataframe\">\n",
       "  <thead>\n",
       "    <tr style=\"text-align: right;\">\n",
       "      <th></th>\n",
       "      <th>ID</th>\n",
       "      <th>Student Name</th>\n",
       "      <th>Email</th>\n",
       "      <th>Subject</th>\n",
       "      <th>Marks</th>\n",
       "    </tr>\n",
       "  </thead>\n",
       "  <tbody>\n",
       "    <tr>\n",
       "      <th>0</th>\n",
       "      <td>1</td>\n",
       "      <td>John Smith</td>\n",
       "      <td>johnsmith@email.com</td>\n",
       "      <td>Mathematics</td>\n",
       "      <td>57</td>\n",
       "    </tr>\n",
       "    <tr>\n",
       "      <th>2</th>\n",
       "      <td>3</td>\n",
       "      <td>Jane Doe</td>\n",
       "      <td>janedoe@email.com</td>\n",
       "      <td>Chemistry</td>\n",
       "      <td>85</td>\n",
       "    </tr>\n",
       "    <tr>\n",
       "      <th>3</th>\n",
       "      <td>3</td>\n",
       "      <td>Jane Doe</td>\n",
       "      <td>janedoe@email.com</td>\n",
       "      <td>Physics</td>\n",
       "      <td>75</td>\n",
       "    </tr>\n",
       "    <tr>\n",
       "      <th>4</th>\n",
       "      <td>4</td>\n",
       "      <td>Jane Wilson</td>\n",
       "      <td>janewilson@email.com</td>\n",
       "      <td>Chemistry</td>\n",
       "      <td>93</td>\n",
       "    </tr>\n",
       "    <tr>\n",
       "      <th>5</th>\n",
       "      <td>1</td>\n",
       "      <td>John Smith</td>\n",
       "      <td>johnsmith@email.com</td>\n",
       "      <td>Mathematics</td>\n",
       "      <td>84</td>\n",
       "    </tr>\n",
       "    <tr>\n",
       "      <th>7</th>\n",
       "      <td>1</td>\n",
       "      <td>John Smith</td>\n",
       "      <td>johnsmith@email.com</td>\n",
       "      <td>Chemistry</td>\n",
       "      <td>57</td>\n",
       "    </tr>\n",
       "    <tr>\n",
       "      <th>8</th>\n",
       "      <td>5</td>\n",
       "      <td>Jack White</td>\n",
       "      <td>jackwhite@email.com</td>\n",
       "      <td>Physics</td>\n",
       "      <td>84</td>\n",
       "    </tr>\n",
       "    <tr>\n",
       "      <th>9</th>\n",
       "      <td>4</td>\n",
       "      <td>Jane Wilson</td>\n",
       "      <td>janewilson@email.com</td>\n",
       "      <td>Physics</td>\n",
       "      <td>87</td>\n",
       "    </tr>\n",
       "    <tr>\n",
       "      <th>10</th>\n",
       "      <td>1</td>\n",
       "      <td>John Smith</td>\n",
       "      <td>johnsmith@email.com</td>\n",
       "      <td>Physics</td>\n",
       "      <td>74</td>\n",
       "    </tr>\n",
       "    <tr>\n",
       "      <th>11</th>\n",
       "      <td>3</td>\n",
       "      <td>Jane Doe</td>\n",
       "      <td>janedoe@email.com</td>\n",
       "      <td>Mathematics</td>\n",
       "      <td>72</td>\n",
       "    </tr>\n",
       "    <tr>\n",
       "      <th>12</th>\n",
       "      <td>5</td>\n",
       "      <td>Jack White</td>\n",
       "      <td>jackwhite@email.com</td>\n",
       "      <td>Chemistry</td>\n",
       "      <td>82</td>\n",
       "    </tr>\n",
       "    <tr>\n",
       "      <th>15</th>\n",
       "      <td>4</td>\n",
       "      <td>Jane Wilson</td>\n",
       "      <td>janewilson@email.com</td>\n",
       "      <td>Physics</td>\n",
       "      <td>73</td>\n",
       "    </tr>\n",
       "  </tbody>\n",
       "</table>\n",
       "</div>"
      ],
      "text/plain": [
       "    ID Student Name                 Email      Subject  Marks\n",
       "0    1   John Smith   johnsmith@email.com  Mathematics     57\n",
       "2    3     Jane Doe     janedoe@email.com    Chemistry     85\n",
       "3    3     Jane Doe     janedoe@email.com      Physics     75\n",
       "4    4  Jane Wilson  janewilson@email.com    Chemistry     93\n",
       "5    1   John Smith   johnsmith@email.com  Mathematics     84\n",
       "7    1   John Smith   johnsmith@email.com    Chemistry     57\n",
       "8    5   Jack White   jackwhite@email.com      Physics     84\n",
       "9    4  Jane Wilson  janewilson@email.com      Physics     87\n",
       "10   1   John Smith   johnsmith@email.com      Physics     74\n",
       "11   3     Jane Doe     janedoe@email.com  Mathematics     72\n",
       "12   5   Jack White   jackwhite@email.com    Chemistry     82\n",
       "15   4  Jane Wilson  janewilson@email.com      Physics     73"
      ]
     },
     "execution_count": 154,
     "metadata": {},
     "output_type": "execute_result"
    }
   ],
   "source": [
    "#Using the obtained student records to find if a given row is a partial duplicate or not\n",
    "relevant = []\n",
    "for idx, row in sample_df.iterrows():\n",
    "    id_email = (row['ID'], row['Email'])\n",
    "    if id_email in unique_records:\n",
    "        if unique_records[id_email] == row['Student Name']:\n",
    "            relevant.append(idx)\n",
    "        \n",
    "#Checking out the relevant records only\n",
    "relevant_df = sample_df[sample_df.index.isin(relevant)]\n",
    "relevant_df"
   ]
  },
  {
   "cell_type": "markdown",
   "id": "bf2f77d4",
   "metadata": {},
   "source": [
    "The above obtained records are all those records which are valid in nature as per our requirement and can be further analyzed to get the desired results. On the other hand, the rows which were removed are ones that can undergo some processing to regain their value (though this is not always the case). Lets check the irrelevant ones first"
   ]
  },
  {
   "cell_type": "code",
   "execution_count": 155,
   "id": "d8747154",
   "metadata": {},
   "outputs": [
    {
     "data": {
      "text/html": [
       "<div>\n",
       "<style scoped>\n",
       "    .dataframe tbody tr th:only-of-type {\n",
       "        vertical-align: middle;\n",
       "    }\n",
       "\n",
       "    .dataframe tbody tr th {\n",
       "        vertical-align: top;\n",
       "    }\n",
       "\n",
       "    .dataframe thead th {\n",
       "        text-align: right;\n",
       "    }\n",
       "</style>\n",
       "<table border=\"1\" class=\"dataframe\">\n",
       "  <thead>\n",
       "    <tr style=\"text-align: right;\">\n",
       "      <th></th>\n",
       "      <th>ID</th>\n",
       "      <th>Student Name</th>\n",
       "      <th>Email</th>\n",
       "      <th>Subject</th>\n",
       "      <th>Marks</th>\n",
       "    </tr>\n",
       "  </thead>\n",
       "  <tbody>\n",
       "    <tr>\n",
       "      <th>1</th>\n",
       "      <td>2</td>\n",
       "      <td>John Smith</td>\n",
       "      <td>johnsmith@email.com</td>\n",
       "      <td>Chemistry</td>\n",
       "      <td>65</td>\n",
       "    </tr>\n",
       "    <tr>\n",
       "      <th>6</th>\n",
       "      <td>4</td>\n",
       "      <td>Jane Wilson</td>\n",
       "      <td>janiewilson@email.com</td>\n",
       "      <td>Mathematics</td>\n",
       "      <td>73</td>\n",
       "    </tr>\n",
       "    <tr>\n",
       "      <th>13</th>\n",
       "      <td>4</td>\n",
       "      <td>Jane Williams</td>\n",
       "      <td>janewilson@email.com</td>\n",
       "      <td>Physics</td>\n",
       "      <td>82</td>\n",
       "    </tr>\n",
       "    <tr>\n",
       "      <th>14</th>\n",
       "      <td>5</td>\n",
       "      <td>Jack Smith</td>\n",
       "      <td>jackwhite@email.com</td>\n",
       "      <td>Mathematics</td>\n",
       "      <td>92</td>\n",
       "    </tr>\n",
       "  </tbody>\n",
       "</table>\n",
       "</div>"
      ],
      "text/plain": [
       "    ID   Student Name                  Email      Subject  Marks\n",
       "1    2     John Smith    johnsmith@email.com    Chemistry     65\n",
       "6    4    Jane Wilson  janiewilson@email.com  Mathematics     73\n",
       "13   4  Jane Williams   janewilson@email.com      Physics     82\n",
       "14   5     Jack Smith    jackwhite@email.com  Mathematics     92"
      ]
     },
     "execution_count": 155,
     "metadata": {},
     "output_type": "execute_result"
    }
   ],
   "source": [
    "#Checking out the irrelevant rows\n",
    "sample_df[~sample_df.index.isin(relevant)]"
   ]
  },
  {
   "cell_type": "markdown",
   "id": "61bbbe24",
   "metadata": {},
   "source": [
    "In our case as you can see there is a pretty minor error in these records which can be removed if necessary with the help of a simple function, but we won't be going into that right now. Lets perform the final step to ensure which of the values aren't partial duplicates by ensuring a check on the subjects"
   ]
  },
  {
   "cell_type": "code",
   "execution_count": 156,
   "id": "3c3004ad",
   "metadata": {},
   "outputs": [
    {
     "data": {
      "text/html": [
       "<div>\n",
       "<style scoped>\n",
       "    .dataframe tbody tr th:only-of-type {\n",
       "        vertical-align: middle;\n",
       "    }\n",
       "\n",
       "    .dataframe tbody tr th {\n",
       "        vertical-align: top;\n",
       "    }\n",
       "\n",
       "    .dataframe thead th {\n",
       "        text-align: right;\n",
       "    }\n",
       "</style>\n",
       "<table border=\"1\" class=\"dataframe\">\n",
       "  <thead>\n",
       "    <tr style=\"text-align: right;\">\n",
       "      <th></th>\n",
       "      <th>ID</th>\n",
       "      <th>Student Name</th>\n",
       "      <th>Email</th>\n",
       "      <th>Subject</th>\n",
       "      <th>Marks</th>\n",
       "    </tr>\n",
       "  </thead>\n",
       "  <tbody>\n",
       "    <tr>\n",
       "      <th>0</th>\n",
       "      <td>1</td>\n",
       "      <td>John Smith</td>\n",
       "      <td>johnsmith@email.com</td>\n",
       "      <td>Mathematics</td>\n",
       "      <td>57</td>\n",
       "    </tr>\n",
       "    <tr>\n",
       "      <th>2</th>\n",
       "      <td>3</td>\n",
       "      <td>Jane Doe</td>\n",
       "      <td>janedoe@email.com</td>\n",
       "      <td>Chemistry</td>\n",
       "      <td>85</td>\n",
       "    </tr>\n",
       "    <tr>\n",
       "      <th>3</th>\n",
       "      <td>3</td>\n",
       "      <td>Jane Doe</td>\n",
       "      <td>janedoe@email.com</td>\n",
       "      <td>Physics</td>\n",
       "      <td>75</td>\n",
       "    </tr>\n",
       "    <tr>\n",
       "      <th>4</th>\n",
       "      <td>4</td>\n",
       "      <td>Jane Wilson</td>\n",
       "      <td>janewilson@email.com</td>\n",
       "      <td>Chemistry</td>\n",
       "      <td>93</td>\n",
       "    </tr>\n",
       "    <tr>\n",
       "      <th>7</th>\n",
       "      <td>1</td>\n",
       "      <td>John Smith</td>\n",
       "      <td>johnsmith@email.com</td>\n",
       "      <td>Chemistry</td>\n",
       "      <td>57</td>\n",
       "    </tr>\n",
       "    <tr>\n",
       "      <th>8</th>\n",
       "      <td>5</td>\n",
       "      <td>Jack White</td>\n",
       "      <td>jackwhite@email.com</td>\n",
       "      <td>Physics</td>\n",
       "      <td>84</td>\n",
       "    </tr>\n",
       "    <tr>\n",
       "      <th>9</th>\n",
       "      <td>4</td>\n",
       "      <td>Jane Wilson</td>\n",
       "      <td>janewilson@email.com</td>\n",
       "      <td>Physics</td>\n",
       "      <td>87</td>\n",
       "    </tr>\n",
       "    <tr>\n",
       "      <th>10</th>\n",
       "      <td>1</td>\n",
       "      <td>John Smith</td>\n",
       "      <td>johnsmith@email.com</td>\n",
       "      <td>Physics</td>\n",
       "      <td>74</td>\n",
       "    </tr>\n",
       "    <tr>\n",
       "      <th>11</th>\n",
       "      <td>3</td>\n",
       "      <td>Jane Doe</td>\n",
       "      <td>janedoe@email.com</td>\n",
       "      <td>Mathematics</td>\n",
       "      <td>72</td>\n",
       "    </tr>\n",
       "    <tr>\n",
       "      <th>12</th>\n",
       "      <td>5</td>\n",
       "      <td>Jack White</td>\n",
       "      <td>jackwhite@email.com</td>\n",
       "      <td>Chemistry</td>\n",
       "      <td>82</td>\n",
       "    </tr>\n",
       "  </tbody>\n",
       "</table>\n",
       "</div>"
      ],
      "text/plain": [
       "    ID Student Name                 Email      Subject  Marks\n",
       "0    1   John Smith   johnsmith@email.com  Mathematics     57\n",
       "2    3     Jane Doe     janedoe@email.com    Chemistry     85\n",
       "3    3     Jane Doe     janedoe@email.com      Physics     75\n",
       "4    4  Jane Wilson  janewilson@email.com    Chemistry     93\n",
       "7    1   John Smith   johnsmith@email.com    Chemistry     57\n",
       "8    5   Jack White   jackwhite@email.com      Physics     84\n",
       "9    4  Jane Wilson  janewilson@email.com      Physics     87\n",
       "10   1   John Smith   johnsmith@email.com      Physics     74\n",
       "11   3     Jane Doe     janedoe@email.com  Mathematics     72\n",
       "12   5   Jack White   jackwhite@email.com    Chemistry     82"
      ]
     },
     "execution_count": 156,
     "metadata": {},
     "output_type": "execute_result"
    }
   ],
   "source": [
    "#Applying duplicate subset on Subject for each Student to filter out all duplicates\n",
    "relevant_df[~relevant_df.duplicated(subset=['ID', 'Student Name', 'Email', 'Subject'])]"
   ]
  },
  {
   "cell_type": "code",
   "execution_count": 157,
   "id": "670fb227",
   "metadata": {},
   "outputs": [
    {
     "data": {
      "text/html": [
       "<div>\n",
       "<style scoped>\n",
       "    .dataframe tbody tr th:only-of-type {\n",
       "        vertical-align: middle;\n",
       "    }\n",
       "\n",
       "    .dataframe tbody tr th {\n",
       "        vertical-align: top;\n",
       "    }\n",
       "\n",
       "    .dataframe thead th {\n",
       "        text-align: right;\n",
       "    }\n",
       "</style>\n",
       "<table border=\"1\" class=\"dataframe\">\n",
       "  <thead>\n",
       "    <tr style=\"text-align: right;\">\n",
       "      <th></th>\n",
       "      <th>ID</th>\n",
       "      <th>Student Name</th>\n",
       "      <th>Email</th>\n",
       "      <th>Subject</th>\n",
       "      <th>Marks</th>\n",
       "    </tr>\n",
       "  </thead>\n",
       "  <tbody>\n",
       "    <tr>\n",
       "      <th>1</th>\n",
       "      <td>2</td>\n",
       "      <td>John Smith</td>\n",
       "      <td>johnsmith@email.com</td>\n",
       "      <td>Chemistry</td>\n",
       "      <td>65</td>\n",
       "    </tr>\n",
       "    <tr>\n",
       "      <th>6</th>\n",
       "      <td>4</td>\n",
       "      <td>Jane Wilson</td>\n",
       "      <td>janiewilson@email.com</td>\n",
       "      <td>Mathematics</td>\n",
       "      <td>73</td>\n",
       "    </tr>\n",
       "    <tr>\n",
       "      <th>13</th>\n",
       "      <td>4</td>\n",
       "      <td>Jane Williams</td>\n",
       "      <td>janewilson@email.com</td>\n",
       "      <td>Physics</td>\n",
       "      <td>82</td>\n",
       "    </tr>\n",
       "    <tr>\n",
       "      <th>14</th>\n",
       "      <td>5</td>\n",
       "      <td>Jack Smith</td>\n",
       "      <td>jackwhite@email.com</td>\n",
       "      <td>Mathematics</td>\n",
       "      <td>92</td>\n",
       "    </tr>\n",
       "  </tbody>\n",
       "</table>\n",
       "</div>"
      ],
      "text/plain": [
       "    ID   Student Name                  Email      Subject  Marks\n",
       "1    2     John Smith    johnsmith@email.com    Chemistry     65\n",
       "6    4    Jane Wilson  janiewilson@email.com  Mathematics     73\n",
       "13   4  Jane Williams   janewilson@email.com      Physics     82\n",
       "14   5     Jack Smith    jackwhite@email.com  Mathematics     92"
      ]
     },
     "execution_count": 157,
     "metadata": {},
     "output_type": "execute_result"
    }
   ],
   "source": [
    "#Extracting the index for the relevant values to generate only partial duplicates\n",
    "relevant_indices = relevant_df.index\n",
    "partial_duplicates = sample_df[~sample_df.index.isin(relevant_indices)]\n",
    "partial_duplicates"
   ]
  },
  {
   "cell_type": "markdown",
   "id": "e01035e2",
   "metadata": {},
   "source": [
    "These values above indicate the partial duplicates present in the dataset according to our case scenario. It must once again be reminded that partial duplicates depend on the context of the problem unlike full duplicates which are exact copy of the same record. Partial duplicates depend on the uniqueness property of attributes which identify a record in the provided dataset. Since our use case was concerned with obtaining the first value stored for each student and had some constraints implemented, thus, it had to go through some rough steps before getting the answer. In general, we learned about two techniques from this analysis of partial duplicates:\n",
    "\n",
    "### Filter Chain on Unique Attributes:\n",
    "When there are certain factors on which your records depend and they carry uniqueness property, the first and foremost thing to check is the validity of those records and how your problem is designed to store them. For example, in our case example the first record for email and ID was supposed to be kept so we made sure it did that. In some other system, lets say sales dataset, it might be the case that only the latest prices for the sales be required, then we would have to establish uniqueness on the last record entered, etc. \n",
    "\n",
    "In case there are more than one unique attributes, it can be the case that one of them is potrayed correctly while other is wrong. In simpler cases, like the ones we looked at, it was pretty easy to establish the relationship between these. But in a more complex approach and set of features, we have to perform a chain of filters. We apply deduplication per each attribute and keep non-duplicates for it and pass the resultant to be deduplicated by the next attribute. This process continues till all the attributes have successfully filtered out duplicates. Finally all the attributes are collectively used to store the records in a datastructure and iterated over the dataset to filter out the partial duplicates corrupting the dataset.\n",
    "\n",
    "### Unique Subset Filtering:\n",
    "In cases where there isn't much complex patterns, the unique keys of the dataset aren't repeated by mistake, but other non-unique attributes might. This results in performing filtering of duplicates on the basis of those unique keys. This approach is quite simple and can be used at easy to filter out the partial duplicates for the defined subset."
   ]
  },
  {
   "cell_type": "markdown",
   "id": "9c0a6d4d",
   "metadata": {},
   "source": [
    "## Visualizing Partial Duplicates:\n",
    "Visualization of Partial Duplicates depends on the process we used to identify them. As in our case, we can't typically write a program directly to get the visualizations as a number of factors were involved in determining the true records. Thus, here i'm not gonna spend much time on it and simply generate two graphs, one representing the total counts and other representing the pattern hidden as I did for the case of full duplicates\n",
    "\n",
    "### Count Plot:\n",
    "The first simple thing we can do with our collected information is generate a count plot. This can be done simply by providing the chart with the number of partial duplicates we extracted and subtracting it from total records to get number of non-duplicate items as illustrated"
   ]
  },
  {
   "cell_type": "code",
   "execution_count": 158,
   "id": "fb78308d",
   "metadata": {},
   "outputs": [
    {
     "data": {
      "image/png": "[encoded data removed]",
      "text/plain": [
       "<Figure size 432x288 with 1 Axes>"
      ]
     },
     "metadata": {},
     "output_type": "display_data"
    }
   ],
   "source": [
    "#Determining the number of duplicates and non-duplicates\n",
    "non_duplicates = len(sample_df) - len(partial_duplicates)\n",
    "\n",
    "#Visualizing count plot\n",
    "plt.bar([0,1], [non_duplicates, len(partial_duplicates)])\n",
    "plt.xticks([0,1], labels=['Non-Duplicates', 'Duplicates'])\n",
    "plt.ylabel(\"Number of Records\")\n",
    "plt.title(\"Partial Duplicates Frequency\")\n",
    "plt.show()"
   ]
  },
  {
   "cell_type": "markdown",
   "id": "383addaf",
   "metadata": {},
   "source": [
    "### Partial Duplicate Pattern:\n",
    "In this one, I am going to make use of the indices obtained for the partial duplicates and use them to draw line patterns for their occurrences. This will give an insight on where the duplicate values are located and the pattern they represent"
   ]
  },
  {
   "cell_type": "code",
   "execution_count": 159,
   "id": "77778985",
   "metadata": {},
   "outputs": [
    {
     "data": {
      "image/png": "[encoded data removed]",
      "text/plain": [
       "<Figure size 576x360 with 1 Axes>"
      ]
     },
     "metadata": {},
     "output_type": "display_data"
    }
   ],
   "source": [
    "# Generating the prominent duplicates\n",
    "fig, ax = plt.subplots(figsize=(8,5))\n",
    "\n",
    "for row in partial_duplicates.index:\n",
    "    ax.axvline(row, color='black', linewidth=1.2)\n",
    "\n",
    "ax.set_xticks([])\n",
    "ax.set_xticks(range(0,len(sample_df)+2,10))\n",
    "ax.set_xlabel('Indices of records')\n",
    "ax.set_yticks([])\n",
    "\n",
    "#Adding custom legend for duplicates\n",
    "duplicates_label = mpatches.Patch(color='black', label='Duplicate')\n",
    "plt.legend(handles=[duplicates_label], loc='upper left')\n",
    "\n",
    "# Show the plot\n",
    "plt.show()"
   ]
  },
  {
   "cell_type": "markdown",
   "id": "73148029",
   "metadata": {},
   "source": [
    "The use case we are dealing with is a sample dataset, the reason we have so few lines and partial duplicates, but when done on a large dataset, these tend to provide a good insight on whether the results were copy pasted i.e. on purpose or just by chance due to randomness of generation. It is to be noted that for a simpler data i.e. with just unique attribute selection for deduplication, we could have used clustering, pivot tables and other techniques as well but since it requires some preprocessing and understanding of the problem before applying the approaches, thus, I have not used them and rather kept the results obtained previously to visualize the outcome\n",
    "\n",
    "## Handling Partial Duplicates:\n",
    "Partial Duplicates can be handled in two ways just like full duplicates depending on the type of data involved. Usually, just like full duplicates, these are removed from the dataset using the drop_duplicates() method with the subset argument. Obviously, we need to always learn the patterns first and find out which records are actually partial duplicates, like I showed you in the data mining process. Here, I will use the obtained relevant data and perform the relevant method to remove duplicates from it (There aren't any methods available for uniqueness filter since it entirely depends on the nature of the problem and its requirements)"
   ]
  },
  {
   "cell_type": "code",
   "execution_count": 160,
   "id": "e3b1e6f1",
   "metadata": {},
   "outputs": [
    {
     "data": {
      "text/html": [
       "<div>\n",
       "<style scoped>\n",
       "    .dataframe tbody tr th:only-of-type {\n",
       "        vertical-align: middle;\n",
       "    }\n",
       "\n",
       "    .dataframe tbody tr th {\n",
       "        vertical-align: top;\n",
       "    }\n",
       "\n",
       "    .dataframe thead th {\n",
       "        text-align: right;\n",
       "    }\n",
       "</style>\n",
       "<table border=\"1\" class=\"dataframe\">\n",
       "  <thead>\n",
       "    <tr style=\"text-align: right;\">\n",
       "      <th></th>\n",
       "      <th>ID</th>\n",
       "      <th>Student Name</th>\n",
       "      <th>Email</th>\n",
       "      <th>Subject</th>\n",
       "      <th>Marks</th>\n",
       "    </tr>\n",
       "  </thead>\n",
       "  <tbody>\n",
       "    <tr>\n",
       "      <th>0</th>\n",
       "      <td>1</td>\n",
       "      <td>John Smith</td>\n",
       "      <td>johnsmith@email.com</td>\n",
       "      <td>Mathematics</td>\n",
       "      <td>57</td>\n",
       "    </tr>\n",
       "    <tr>\n",
       "      <th>2</th>\n",
       "      <td>3</td>\n",
       "      <td>Jane Doe</td>\n",
       "      <td>janedoe@email.com</td>\n",
       "      <td>Chemistry</td>\n",
       "      <td>85</td>\n",
       "    </tr>\n",
       "    <tr>\n",
       "      <th>3</th>\n",
       "      <td>3</td>\n",
       "      <td>Jane Doe</td>\n",
       "      <td>janedoe@email.com</td>\n",
       "      <td>Physics</td>\n",
       "      <td>75</td>\n",
       "    </tr>\n",
       "    <tr>\n",
       "      <th>4</th>\n",
       "      <td>4</td>\n",
       "      <td>Jane Wilson</td>\n",
       "      <td>janewilson@email.com</td>\n",
       "      <td>Chemistry</td>\n",
       "      <td>93</td>\n",
       "    </tr>\n",
       "    <tr>\n",
       "      <th>7</th>\n",
       "      <td>1</td>\n",
       "      <td>John Smith</td>\n",
       "      <td>johnsmith@email.com</td>\n",
       "      <td>Chemistry</td>\n",
       "      <td>57</td>\n",
       "    </tr>\n",
       "    <tr>\n",
       "      <th>8</th>\n",
       "      <td>5</td>\n",
       "      <td>Jack White</td>\n",
       "      <td>jackwhite@email.com</td>\n",
       "      <td>Physics</td>\n",
       "      <td>84</td>\n",
       "    </tr>\n",
       "    <tr>\n",
       "      <th>9</th>\n",
       "      <td>4</td>\n",
       "      <td>Jane Wilson</td>\n",
       "      <td>janewilson@email.com</td>\n",
       "      <td>Physics</td>\n",
       "      <td>87</td>\n",
       "    </tr>\n",
       "    <tr>\n",
       "      <th>10</th>\n",
       "      <td>1</td>\n",
       "      <td>John Smith</td>\n",
       "      <td>johnsmith@email.com</td>\n",
       "      <td>Physics</td>\n",
       "      <td>74</td>\n",
       "    </tr>\n",
       "    <tr>\n",
       "      <th>11</th>\n",
       "      <td>3</td>\n",
       "      <td>Jane Doe</td>\n",
       "      <td>janedoe@email.com</td>\n",
       "      <td>Mathematics</td>\n",
       "      <td>72</td>\n",
       "    </tr>\n",
       "    <tr>\n",
       "      <th>12</th>\n",
       "      <td>5</td>\n",
       "      <td>Jack White</td>\n",
       "      <td>jackwhite@email.com</td>\n",
       "      <td>Chemistry</td>\n",
       "      <td>82</td>\n",
       "    </tr>\n",
       "  </tbody>\n",
       "</table>\n",
       "</div>"
      ],
      "text/plain": [
       "    ID Student Name                 Email      Subject  Marks\n",
       "0    1   John Smith   johnsmith@email.com  Mathematics     57\n",
       "2    3     Jane Doe     janedoe@email.com    Chemistry     85\n",
       "3    3     Jane Doe     janedoe@email.com      Physics     75\n",
       "4    4  Jane Wilson  janewilson@email.com    Chemistry     93\n",
       "7    1   John Smith   johnsmith@email.com    Chemistry     57\n",
       "8    5   Jack White   jackwhite@email.com      Physics     84\n",
       "9    4  Jane Wilson  janewilson@email.com      Physics     87\n",
       "10   1   John Smith   johnsmith@email.com      Physics     74\n",
       "11   3     Jane Doe     janedoe@email.com  Mathematics     72\n",
       "12   5   Jack White   jackwhite@email.com    Chemistry     82"
      ]
     },
     "execution_count": 160,
     "metadata": {},
     "output_type": "execute_result"
    }
   ],
   "source": [
    "#Removing partial duplicates from relevant data to get final results\n",
    "clean_df = relevant_df.drop_duplicates(subset=['ID', 'Student Name', 'Email', 'Subject'], keep='first')\n",
    "clean_df"
   ]
  },
  {
   "cell_type": "markdown",
   "id": "a13b7ce4",
   "metadata": {},
   "source": [
    "Thats it for today! This notebook was generated through a detail oriented process, so it would take time to understand some of its details especially if you are a research oriented person. For me, it was an experience worth 3 days. Hopefully the next topics to come are going to be detail oriented as well and may not take 1 day to complete as was the case with the previous notebooks."
   ]
  }
 ],
 "metadata": {
  "kernelspec": {
   "display_name": "Python 3 (ipykernel)",
   "language": "python",
   "name": "python3"
  },
  "language_info": {
   "codemirror_mode": {
    "name": "ipython",
    "version": 3
   },
   "file_extension": ".py",
   "mimetype": "text/x-python",
   "name": "python",
   "nbconvert_exporter": "python",
   "pygments_lexer": "ipython3",
   "version": "3.9.12"
  }
 },
 "nbformat": 4,
 "nbformat_minor": 5
}
