{
 "cells": [
  {
   "cell_type": "code",
   "execution_count": 2,
   "id": "ab5d55f3",
   "metadata": {},
   "outputs": [],
   "source": [
    "import pandas as pd\n",
    "import seaborn as sns"
   ]
  },
  {
   "cell_type": "markdown",
   "id": "b271ba53",
   "metadata": {},
   "source": [
    "# Investigation of Data Variables:\n",
    "The first task in an EDA after loading is a dataset is to find out what each variable in it represents. The classification of data variables was discussed back [here](https://github.com/Hassan-Farid/365-Days-of-ML/blob/main/Kinds%20of%20Data%20Variables.ipynb). Today, we will look at applying the investigation process on real datasets and get a grip on this essential process as it is the main step which gives us insights on what type of preprocessing is to be performed. \n",
    "\n",
    "## Titanic Dataset:\n",
    "Titanic Dataset is a very widely used dataset used for Machine Learning tasks. We will perform structural investigation for data variables on the dataset and find out how we discriminate the different kinds of variables. I am going to use seaborn package to load the titanic dataset and pandas for viewing and performing data operations on it. So lets get it loading:"
   ]
  },
  {
   "cell_type": "code",
   "execution_count": 6,
   "id": "a67a7e2c",
   "metadata": {},
   "outputs": [
    {
     "data": {
      "text/html": [
       "<div>\n",
       "<style scoped>\n",
       "    .dataframe tbody tr th:only-of-type {\n",
       "        vertical-align: middle;\n",
       "    }\n",
       "\n",
       "    .dataframe tbody tr th {\n",
       "        vertical-align: top;\n",
       "    }\n",
       "\n",
       "    .dataframe thead th {\n",
       "        text-align: right;\n",
       "    }\n",
       "</style>\n",
       "<table border=\"1\" class=\"dataframe\">\n",
       "  <thead>\n",
       "    <tr style=\"text-align: right;\">\n",
       "      <th></th>\n",
       "      <th>survived</th>\n",
       "      <th>pclass</th>\n",
       "      <th>sex</th>\n",
       "      <th>age</th>\n",
       "      <th>sibsp</th>\n",
       "      <th>parch</th>\n",
       "      <th>fare</th>\n",
       "      <th>embarked</th>\n",
       "      <th>class</th>\n",
       "      <th>who</th>\n",
       "      <th>adult_male</th>\n",
       "      <th>deck</th>\n",
       "      <th>embark_town</th>\n",
       "      <th>alive</th>\n",
       "      <th>alone</th>\n",
       "    </tr>\n",
       "  </thead>\n",
       "  <tbody>\n",
       "    <tr>\n",
       "      <th>0</th>\n",
       "      <td>0</td>\n",
       "      <td>3</td>\n",
       "      <td>male</td>\n",
       "      <td>22.0</td>\n",
       "      <td>1</td>\n",
       "      <td>0</td>\n",
       "      <td>7.2500</td>\n",
       "      <td>S</td>\n",
       "      <td>Third</td>\n",
       "      <td>man</td>\n",
       "      <td>True</td>\n",
       "      <td>NaN</td>\n",
       "      <td>Southampton</td>\n",
       "      <td>no</td>\n",
       "      <td>False</td>\n",
       "    </tr>\n",
       "    <tr>\n",
       "      <th>1</th>\n",
       "      <td>1</td>\n",
       "      <td>1</td>\n",
       "      <td>female</td>\n",
       "      <td>38.0</td>\n",
       "      <td>1</td>\n",
       "      <td>0</td>\n",
       "      <td>71.2833</td>\n",
       "      <td>C</td>\n",
       "      <td>First</td>\n",
       "      <td>woman</td>\n",
       "      <td>False</td>\n",
       "      <td>C</td>\n",
       "      <td>Cherbourg</td>\n",
       "      <td>yes</td>\n",
       "      <td>False</td>\n",
       "    </tr>\n",
       "    <tr>\n",
       "      <th>2</th>\n",
       "      <td>1</td>\n",
       "      <td>3</td>\n",
       "      <td>female</td>\n",
       "      <td>26.0</td>\n",
       "      <td>0</td>\n",
       "      <td>0</td>\n",
       "      <td>7.9250</td>\n",
       "      <td>S</td>\n",
       "      <td>Third</td>\n",
       "      <td>woman</td>\n",
       "      <td>False</td>\n",
       "      <td>NaN</td>\n",
       "      <td>Southampton</td>\n",
       "      <td>yes</td>\n",
       "      <td>True</td>\n",
       "    </tr>\n",
       "    <tr>\n",
       "      <th>3</th>\n",
       "      <td>1</td>\n",
       "      <td>1</td>\n",
       "      <td>female</td>\n",
       "      <td>35.0</td>\n",
       "      <td>1</td>\n",
       "      <td>0</td>\n",
       "      <td>53.1000</td>\n",
       "      <td>S</td>\n",
       "      <td>First</td>\n",
       "      <td>woman</td>\n",
       "      <td>False</td>\n",
       "      <td>C</td>\n",
       "      <td>Southampton</td>\n",
       "      <td>yes</td>\n",
       "      <td>False</td>\n",
       "    </tr>\n",
       "    <tr>\n",
       "      <th>4</th>\n",
       "      <td>0</td>\n",
       "      <td>3</td>\n",
       "      <td>male</td>\n",
       "      <td>35.0</td>\n",
       "      <td>0</td>\n",
       "      <td>0</td>\n",
       "      <td>8.0500</td>\n",
       "      <td>S</td>\n",
       "      <td>Third</td>\n",
       "      <td>man</td>\n",
       "      <td>True</td>\n",
       "      <td>NaN</td>\n",
       "      <td>Southampton</td>\n",
       "      <td>no</td>\n",
       "      <td>True</td>\n",
       "    </tr>\n",
       "  </tbody>\n",
       "</table>\n",
       "</div>"
      ],
      "text/plain": [
       "   survived  pclass     sex   age  sibsp  parch     fare embarked  class  \\\n",
       "0         0       3    male  22.0      1      0   7.2500        S  Third   \n",
       "1         1       1  female  38.0      1      0  71.2833        C  First   \n",
       "2         1       3  female  26.0      0      0   7.9250        S  Third   \n",
       "3         1       1  female  35.0      1      0  53.1000        S  First   \n",
       "4         0       3    male  35.0      0      0   8.0500        S  Third   \n",
       "\n",
       "     who  adult_male deck  embark_town alive  alone  \n",
       "0    man        True  NaN  Southampton    no  False  \n",
       "1  woman       False    C    Cherbourg   yes  False  \n",
       "2  woman       False  NaN  Southampton   yes   True  \n",
       "3  woman       False    C  Southampton   yes  False  \n",
       "4    man        True  NaN  Southampton    no   True  "
      ]
     },
     "execution_count": 6,
     "metadata": {},
     "output_type": "execute_result"
    }
   ],
   "source": [
    "#Loading the titanic dataset\n",
    "titanic_df = sns.load_dataset('titanic')\n",
    "\n",
    "#Viewing the first 5 records of the dataset\n",
    "titanic_df.head()"
   ]
  },
  {
   "cell_type": "markdown",
   "id": "494a936a",
   "metadata": {},
   "source": [
    "Okay, so now that the dataset has been loaded, we can see that there are many variables present in the dataset. To start our investigation, the first thing is to generate the information about these variables i.e. the data type with each of these is defined (since I am using python, datatypes will be specific to python)"
   ]
  },
  {
   "cell_type": "code",
   "execution_count": 7,
   "id": "0cb20450",
   "metadata": {},
   "outputs": [
    {
     "name": "stdout",
     "output_type": "stream",
     "text": [
      "<class 'pandas.core.frame.DataFrame'>\n",
      "RangeIndex: 891 entries, 0 to 890\n",
      "Data columns (total 15 columns):\n",
      " #   Column       Non-Null Count  Dtype   \n",
      "---  ------       --------------  -----   \n",
      " 0   survived     891 non-null    int64   \n",
      " 1   pclass       891 non-null    int64   \n",
      " 2   sex          891 non-null    object  \n",
      " 3   age          714 non-null    float64 \n",
      " 4   sibsp        891 non-null    int64   \n",
      " 5   parch        891 non-null    int64   \n",
      " 6   fare         891 non-null    float64 \n",
      " 7   embarked     889 non-null    object  \n",
      " 8   class        891 non-null    category\n",
      " 9   who          891 non-null    object  \n",
      " 10  adult_male   891 non-null    bool    \n",
      " 11  deck         203 non-null    category\n",
      " 12  embark_town  889 non-null    object  \n",
      " 13  alive        891 non-null    object  \n",
      " 14  alone        891 non-null    bool    \n",
      "dtypes: bool(2), category(2), float64(2), int64(4), object(5)\n",
      "memory usage: 80.7+ KB\n"
     ]
    }
   ],
   "source": [
    "#Viewing information about the variables \n",
    "titanic_df.info()"
   ]
  },
  {
   "cell_type": "markdown",
   "id": "8d32f75a",
   "metadata": {},
   "source": [
    "We can see that the variables in the result are defined with 2 Boolean, 2 Category, 2 Float, 4 Integers and 5 Objects. Now for our first step, we have to classify each of these types as either Numeric or Non-Numeric. Since float and integers represent numbers, they will be numeric in nature whereas boolean and objects will be non-numeric. As for category, it depends on the type of value stored in it and cannot be classified into one or the other without looking at the data. So lets first discover what type of data are the category classes representing, we have:\n",
    "\n",
    "### Class Variable:"
   ]
  },
  {
   "cell_type": "code",
   "execution_count": 17,
   "id": "5f4e0ea4",
   "metadata": {},
   "outputs": [],
   "source": [
    "#Viewing the type of contents of the class variable on the basis of unique values (check on numeric)\n",
    "def check_numeric(var):\n",
    "    try:\n",
    "        res = all(float(x) for x in var)\n",
    "        print(\"{} is a numeric variable\".format(var))\n",
    "    except:\n",
    "        print(\"{} is a non-numeric variable\".format(var))"
   ]
  },
  {
   "cell_type": "code",
   "execution_count": 18,
   "id": "edd352a0",
   "metadata": {},
   "outputs": [
    {
     "name": "stdout",
     "output_type": "stream",
     "text": [
      "class is a non-numeric variable\n"
     ]
    }
   ],
   "source": [
    "#Applying the method for class variable to figure out its type\n",
    "check_numeric('class')"
   ]
  },
  {
   "cell_type": "markdown",
   "id": "b575e459",
   "metadata": {},
   "source": [
    "### Deck Variable:"
   ]
  },
  {
   "cell_type": "code",
   "execution_count": 20,
   "id": "325339f2",
   "metadata": {},
   "outputs": [
    {
     "name": "stdout",
     "output_type": "stream",
     "text": [
      "deck is a non-numeric variable\n"
     ]
    }
   ],
   "source": [
    "#Applying the method for deck variable to figure out its type\n",
    "check_numeric('deck')"
   ]
  },
  {
   "cell_type": "markdown",
   "id": "1be0c55d",
   "metadata": {},
   "source": [
    "Thus, the provided variables can be classified into numeric and non-numeric variables as follows:\n",
    "\n",
    "|Numeric||Non-Numeric|\n",
    "|-|-|-|\n",
    "|survived, pclass, age, sibsp, parch, fare||sex, embarked, who, adult_male, embark_town, alive, alone, class, deck|\n",
    "\n",
    "Now to find out the type of categories as well as the sub-types for numeric and non-numeric we have to start further investigation into the records stored in each variable\n",
    "\n",
    "## Numeric Variable Investigation:\n",
    "Lets first start off with the numeric variables in the dataset. We know that numeric variables can be classified into either discrete or continuous based on being integer or floats. We already know from our info that 4 are integers and 2 are floating points, but just seeing that is not something from which you should make decision about the category. \n",
    "\n",
    "Why you ask? Well although integer columns are surely to be discrete in nature, the same cannot be said about floating points, since it might be the case that an integer value has been stored in the format of floating point with \"%d.0\" format e.g. 5.0. Now lets take a look at the floating point variables from the dataset and check if they are integers or not?\n",
    "\n",
    "### Age Variable:"
   ]
  },
  {
   "cell_type": "code",
   "execution_count": 21,
   "id": "b9056f76",
   "metadata": {},
   "outputs": [],
   "source": [
    "#Checking whether all the values in a variable are integers (discrete value)\n",
    "def check_integer(var):\n",
    "    res = all(x.is_integer() for x in titanic_df[var])\n",
    "    if res:\n",
    "        print(\"{} is a discrete variable\".format(var))\n",
    "    else:\n",
    "        print(\"{} is a continuous variable\".format(var))"
   ]
  },
  {
   "cell_type": "code",
   "execution_count": 22,
   "id": "66a36446",
   "metadata": {},
   "outputs": [
    {
     "name": "stdout",
     "output_type": "stream",
     "text": [
      "age is a continuous variable\n"
     ]
    }
   ],
   "source": [
    "#Applying method for age variable to check if its integer or not\n",
    "check_integer('age')"
   ]
  },
  {
   "cell_type": "markdown",
   "id": "7abaa97a",
   "metadata": {},
   "source": [
    "### Fare Variable:"
   ]
  },
  {
   "cell_type": "code",
   "execution_count": 23,
   "id": "c136ca36",
   "metadata": {},
   "outputs": [
    {
     "name": "stdout",
     "output_type": "stream",
     "text": [
      "fare is a continuous variable\n"
     ]
    }
   ],
   "source": [
    "#Checking whether fare is integer or float\n",
    "check_integer('fare')"
   ]
  },
  {
   "cell_type": "markdown",
   "id": "c5a92dc6",
   "metadata": {},
   "source": [
    "Thus, we will classify fare as a floating point i.e. a continuous variable. Hence, we have for classification of numeric values, we have:\n",
    "\n",
    "|Discrete||Continuous|\n",
    "|-|-|-|\n",
    "|survived, pclass, sibsp, parch||age, fare|\n",
    "\n",
    "Now, lets move on further classification of the Discrete and Continuous variables.\n",
    "\n",
    "## Discrete Variable Investigation:\n",
    "Lets now look at the different discrete variables we have and check whether they are qualitative or quantitative in nature. To figure this out, we need human interpretation of the provided feature and thus this is not an automated process. In both cases, the value will be provided in the form of an integer but based on the name of the column, it would be considered one of the two.\n",
    "\n",
    "The criteria for determining qualitative or quantitative is based on what that particular variable represents. If the variable's meaning corresponds to some measured or counted values e.g. size, number of items, sales, etc. than we will put it in quantitative otherwise we will put it in qualitative.\n",
    "\n",
    "Now, based on the classified discrete variables, we will get the following classification:\n",
    "\n",
    "|Quantitative||Qualitative|\n",
    "|-|-|-|\n",
    "|survived, pclass||sibsp, parch|\n",
    "\n",
    "Now, lets move towards further classifying the Qualitative variables:\n",
    "\n",
    "## Quantiative Variable Investigation:\n",
    "Lets now look at the different qualitative variables and classify them into dichotomous and multichotomous. This can be defined by checking out the number of unique values present in each variable. If the obtained unique values for a variable are exactly two, then it would be dichotomous, otherwise it would be multichotomous.\n",
    "\n",
    "### Survived Variable: "
   ]
  },
  {
   "cell_type": "code",
   "execution_count": 30,
   "id": "d66e2c58",
   "metadata": {},
   "outputs": [],
   "source": [
    "#Check if the number of unqiue values are 2 or not\n",
    "def check_dichotomous(var):\n",
    "    res = titanic_df[var].nunique()\n",
    "    if res == 2:\n",
    "        print(\"{} is a dichotomous variable\".format(var))\n",
    "    else:\n",
    "        print(\"{} is a multichotomous variable\".format(var))"
   ]
  },
  {
   "cell_type": "code",
   "execution_count": 31,
   "id": "97d1a0f6",
   "metadata": {},
   "outputs": [
    {
     "name": "stdout",
     "output_type": "stream",
     "text": [
      "survived is a dichotomous variable\n"
     ]
    }
   ],
   "source": [
    "#Check if survival is dichotomous\n",
    "check_dichotomous('survived')"
   ]
  },
  {
   "cell_type": "markdown",
   "id": "3f93ff77",
   "metadata": {},
   "source": [
    "### Pclass Variable:"
   ]
  },
  {
   "cell_type": "code",
   "execution_count": 32,
   "id": "881e253d",
   "metadata": {},
   "outputs": [
    {
     "name": "stdout",
     "output_type": "stream",
     "text": [
      "pclass is a multichotomous variable\n"
     ]
    }
   ],
   "source": [
    "#Check if pclass is dichotomous\n",
    "check_dichotomous('pclass')"
   ]
  },
  {
   "cell_type": "markdown",
   "id": "a468b935",
   "metadata": {},
   "source": [
    "Thus, we have for the classification of the given quantitative variables:\n",
    "\n",
    "|Dichotomous||Multichotomous|\n",
    "|-|-|-|\n",
    "|survived||pclass|\n",
    "\n",
    "## Multichotomous Variable Investigation:\n",
    "Multichotomous Variables can be classified into nominal and ordinal based on an individual's observation and just like qualitative/quantitative cannot be classified based on some methodology. Now, if the multichotomous variable cannot be ranked and doesn't have any order, we would put it as a nominal variable, otherwise we will put it as ordinal variable.\n",
    "\n",
    "Now, for the pclass variable, if we reference the titanic dataset, it represents the ticket class of the passenger. Class is usually a means to represent the difference in the quality of people i.e. a first class is the wealthiest whereas the steerage class is immigrants. So we can say that the pclass variable is an ordinal variable as first class differs in rank from the other classes and so on.\n",
    "\n",
    "Thus, we classify pclass as an ordinal variable. In our case we can see that there is no example of numerical nominal variable (though dichotomous is always a nominal so we can say it is one in a perspective)\n",
    "\n",
    "## Continuous Variable Investigation:\n",
    "For continuous variables, we cannot identify if they are interval based or ratio based with the help of computation, rather we need to use an individual's observation to classify it. For this task, we will check if the variable being used has some absolute zero value or not. If it does, we classify it as ratio-scaled, otherwise, as interval-scaled.\n",
    "\n",
    "For age variable, we know that an age of 0 means nothing, regardless of which creature we are referring to. Thus, age is a ratio-scaled variable.\n",
    "\n",
    "For fare variable, we know that 0 fare of some ride is 0, regardless of which person, vehicle or currency is being used. Thus, fare is a ratio-scaled variable.\n",
    "\n",
    "In our case, there is no interval scale variable present, but if there was a factor where a variable had 0 value for one unit but does not equate to 0 value in other units of measurement, then we would classify it as interval-scaled.\n",
    "\n",
    "## Non-Numeric Variable Investigation:\n",
    "Lets take a look at the non-numeric variables now. To classify them, one way is to check the number of unique values for each variable and if it is greater than the expected number of classes, we can consider it non-categorical and otherwise categorical. But usually this decision is to be made by individual's observation rather than basing it on some computation. Lets take a look at how we would classify them:\n",
    "\n",
    "* For sex variable, we know that it is a categorical variable since it provides a choice between male and female. Since, there are only two possible choices, we say it is also dichotomous in nature.\n",
    "\n",
    "* For embarked variable, we know that it is a categorical variable as it provides a choice between three values of embarkment. Since, there are more than two choices and the place for embarkment doesn't possess property of ranking e.g. if someone embarks from Southhampton, he doesn't necessarily have a higher rank than someone who embarks from Cherbourg and vice versa, therefore, we say that embarked is a nominal variable.\n",
    "\n",
    "* For who variable, we know that it is a categorical variable as it provides a choice between three values i.e. man, woman and child. Since there are more than two choices and the status of the person doesn't possess ordering e.g. a man isn't superior to a woman and vice versa, therefore, we say that who is a nominal variable. (It is true that the drill is usually woman and children first but we can't say for sure that would 100% be the case)\n",
    "\n",
    "* For adult_male variable, we know that it is a categorical variable as it provides a choice between true and false. Since, there are only two possible choices, we say it is also dichotomous in nature.\n",
    "\n",
    "* For embark_town variable, we have the same condition as that of embarked, thus, it is also a nominal variable.\n",
    "\n",
    "* For alive variable, we know that it is a categorical variable as it provides a choice between yes and no. Since, there are only two possible choices, we say it is also dichotomous in nature. \n",
    "\n",
    "* For alone variable, we know that it is a categorical variable as it provides a choice between true and false. Since, there are only two possible choices, we say it is also dichotomous in nature.\n",
    "\n",
    "* For class variable, we know that it is a categorical variable as it provides a choice between three different classes. Since, there are more than two categories involved but class is based on ranking i.e. a person of first class is to be wealthier than a person of third class, thus, we say it is a ordinal variable.\n",
    "\n",
    "* For deck variable, we know that it is a categorical variable as it provides a choice between six decks of the cruise. Since, there are more than two categories involved but one deck does not have superiority over the other, we can say that deck is a nominal variable.\n",
    "\n",
    "In our case, there are no non-categorical non-numeric variables, and even if there were any, they would have been decomposed into useful variables in preprocessing phase, example would be the complete name of each passenger, from which we could have extracted the surnames to generate family groupings, etc.\n",
    "\n",
    "## Classification Table:\n",
    "Thus, after classifying all the variables in the dataset, we get the following classification table:\n",
    "\n",
    "|Variable Name||Variable Kind|\n",
    "|-|-|-|\n",
    "|survived||Dichotomous Discrete Variable|\n",
    "|pclass||Ordinal Discrete Variable|\n",
    "|sex||Dichotomous Non-Numeric Variable|\n",
    "|age||Ratio-scaled Continuous Variable|\n",
    "|sibsp||Quantitative Discrete Variable|\n",
    "|parch||Quantitative Discrete Variable|\n",
    "|fare||Ratio-scaled Continuous Variable|\n",
    "|embarked||Nominal Non-numeric Variable|\n",
    "|class||Ordinal Non-numeric Variable|\n",
    "|who||Nominal Non-numeric Variable|\n",
    "|adult_male||Dichotomous Non-numeric Variable|\n",
    "|deck||Nominal Non-numeric Variable|\n",
    "|embark_town||Nominal Non-numeric Variable|\n",
    "|alive||Dichotomous Non-Numeric Variable|\n",
    "|alone||Dichotomous Non-Numeric Variable|\n",
    "\n",
    "This completes our case on structural investigation of a dataset. If we follow the same approach i.e. step by step checking out each value and matching its case, then we can split any dataset into these different classes regardless of the number of features. This classification is an essential step in EDA as it allows you to determine what each variable represents and how it would be dealt with in the preprocessing phase. \n",
    "\n",
    "That's it for today! We will start with the Quantity Investigation Phase from tomorrow!"
   ]
  }
 ],
 "metadata": {
  "kernelspec": {
   "display_name": "Python 3 (ipykernel)",
   "language": "python",
   "name": "python3"
  },
  "language_info": {
   "codemirror_mode": {
    "name": "ipython",
    "version": 3
   },
   "file_extension": ".py",
   "mimetype": "text/x-python",
   "name": "python",
   "nbconvert_exporter": "python",
   "pygments_lexer": "ipython3",
   "version": "3.9.12"
  }
 },
 "nbformat": 4,
 "nbformat_minor": 5
}
